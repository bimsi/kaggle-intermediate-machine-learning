{
 "cells": [
  {
   "cell_type": "markdown",
   "id": "37fef03d",
   "metadata": {
    "papermill": {
     "duration": 0.0079,
     "end_time": "2023-12-11T06:04:14.522920",
     "exception": false,
     "start_time": "2023-12-11T06:04:14.515020",
     "status": "completed"
    },
    "tags": []
   },
   "source": [
    "**This notebook is an exercise in the [Intermediate Machine Learning](https://www.kaggle.com/learn/intermediate-machine-learning) course.  You can reference the tutorial at [this link](https://www.kaggle.com/alexisbcook/xgboost).**\n",
    "\n",
    "---\n"
   ]
  },
  {
   "cell_type": "markdown",
   "id": "a069d341",
   "metadata": {
    "papermill": {
     "duration": 0.006983,
     "end_time": "2023-12-11T06:04:14.537472",
     "exception": false,
     "start_time": "2023-12-11T06:04:14.530489",
     "status": "completed"
    },
    "tags": []
   },
   "source": [
    "In this exercise, you will use your new knowledge to train a model with **gradient boosting**.\n",
    "\n",
    "# Setup\n",
    "\n",
    "The questions below will give you feedback on your work. Run the following cell to set up the feedback system."
   ]
  },
  {
   "cell_type": "code",
   "execution_count": 1,
   "id": "93f98970",
   "metadata": {
    "execution": {
     "iopub.execute_input": "2023-12-11T06:04:14.556277Z",
     "iopub.status.busy": "2023-12-11T06:04:14.555782Z",
     "iopub.status.idle": "2023-12-11T06:04:17.826057Z",
     "shell.execute_reply": "2023-12-11T06:04:17.824585Z"
    },
    "papermill": {
     "duration": 3.283406,
     "end_time": "2023-12-11T06:04:17.829323",
     "exception": false,
     "start_time": "2023-12-11T06:04:14.545917",
     "status": "completed"
    },
    "tags": []
   },
   "outputs": [
    {
     "name": "stdout",
     "output_type": "stream",
     "text": [
      "Setup Complete\n"
     ]
    }
   ],
   "source": [
    "# Set up code checking\n",
    "import os\n",
    "if not os.path.exists(\"../input/train.csv\"):\n",
    "    os.symlink(\"../input/home-data-for-ml-course/train.csv\", \"../input/train.csv\")  \n",
    "    os.symlink(\"../input/home-data-for-ml-course/test.csv\", \"../input/test.csv\") \n",
    "from learntools.core import binder\n",
    "binder.bind(globals())\n",
    "from learntools.ml_intermediate.ex6 import *\n",
    "print(\"Setup Complete\")"
   ]
  },
  {
   "cell_type": "markdown",
   "id": "c0225600",
   "metadata": {
    "papermill": {
     "duration": 0.007998,
     "end_time": "2023-12-11T06:04:17.846729",
     "exception": false,
     "start_time": "2023-12-11T06:04:17.838731",
     "status": "completed"
    },
    "tags": []
   },
   "source": [
    "You will work with the [Housing Prices Competition for Kaggle Learn Users](https://www.kaggle.com/c/home-data-for-ml-course) dataset from the previous exercise. \n",
    "\n",
    "![Ames Housing dataset image](https://storage.googleapis.com/kaggle-media/learn/images/lTJVG4e.png)\n",
    "\n",
    "Run the next code cell without changes to load the training and validation sets in `X_train`, `X_valid`, `y_train`, and `y_valid`.  The test set is loaded in `X_test`."
   ]
  },
  {
   "cell_type": "code",
   "execution_count": 2,
   "id": "b9b5ece7",
   "metadata": {
    "execution": {
     "iopub.execute_input": "2023-12-11T06:04:17.864578Z",
     "iopub.status.busy": "2023-12-11T06:04:17.864163Z",
     "iopub.status.idle": "2023-12-11T06:04:18.077727Z",
     "shell.execute_reply": "2023-12-11T06:04:18.076373Z"
    },
    "papermill": {
     "duration": 0.226166,
     "end_time": "2023-12-11T06:04:18.080609",
     "exception": false,
     "start_time": "2023-12-11T06:04:17.854443",
     "status": "completed"
    },
    "tags": []
   },
   "outputs": [],
   "source": [
    "import pandas as pd\n",
    "from sklearn.model_selection import train_test_split\n",
    "\n",
    "# Read the data\n",
    "X = pd.read_csv('../input/train.csv', index_col='Id')\n",
    "X_test_full = pd.read_csv('../input/test.csv', index_col='Id')\n",
    "\n",
    "# Remove rows with missing target, separate target from predictors\n",
    "X.dropna(axis=0, subset=['SalePrice'], inplace=True)\n",
    "y = X.SalePrice              \n",
    "X.drop(['SalePrice'], axis=1, inplace=True)\n",
    "\n",
    "# Break off validation set from training data\n",
    "X_train_full, X_valid_full, y_train, y_valid = train_test_split(X, y, train_size=0.8, test_size=0.2,\n",
    "                                                                random_state=0)\n",
    "\n",
    "# \"Cardinality\" means the number of unique values in a column\n",
    "# Select categorical columns with relatively low cardinality (convenient but arbitrary)\n",
    "low_cardinality_cols = [cname for cname in X_train_full.columns if X_train_full[cname].nunique() < 10 and \n",
    "                        X_train_full[cname].dtype == \"object\"]\n",
    "\n",
    "# Select numeric columns\n",
    "numeric_cols = [cname for cname in X_train_full.columns if X_train_full[cname].dtype in ['int64', 'float64']]\n",
    "\n",
    "# Keep selected columns only\n",
    "my_cols = low_cardinality_cols + numeric_cols\n",
    "X_train = X_train_full[my_cols].copy()\n",
    "X_valid = X_valid_full[my_cols].copy()\n",
    "X_test = X_test_full[my_cols].copy()\n",
    "\n",
    "# One-hot encode the data (to shorten the code, we use pandas)\n",
    "X_train = pd.get_dummies(X_train)\n",
    "X_valid = pd.get_dummies(X_valid)\n",
    "X_test = pd.get_dummies(X_test)\n",
    "X_train, X_valid = X_train.align(X_valid, join='left', axis=1)\n",
    "X_train, X_test = X_train.align(X_test, join='left', axis=1)"
   ]
  },
  {
   "cell_type": "markdown",
   "id": "15fa73ca",
   "metadata": {
    "papermill": {
     "duration": 0.007263,
     "end_time": "2023-12-11T06:04:18.095981",
     "exception": false,
     "start_time": "2023-12-11T06:04:18.088718",
     "status": "completed"
    },
    "tags": []
   },
   "source": [
    "# Step 1: Build model\n",
    "\n",
    "### Part A\n",
    "\n",
    "In this step, you'll build and train your first model with gradient boosting.\n",
    "\n",
    "- Begin by setting `my_model_1` to an XGBoost model.  Use the [XGBRegressor](https://xgboost.readthedocs.io/en/latest/python/python_api.html#xgboost.XGBRegressor) class, and set the random seed to 0 (`random_state=0`).  **Leave all other parameters as default.**\n",
    "- Then, fit the model to the training data in `X_train` and `y_train`."
   ]
  },
  {
   "cell_type": "code",
   "execution_count": 3,
   "id": "4e4f385a",
   "metadata": {
    "execution": {
     "iopub.execute_input": "2023-12-11T06:04:18.113129Z",
     "iopub.status.busy": "2023-12-11T06:04:18.112676Z",
     "iopub.status.idle": "2023-12-11T06:04:18.684964Z",
     "shell.execute_reply": "2023-12-11T06:04:18.683745Z"
    },
    "papermill": {
     "duration": 0.585385,
     "end_time": "2023-12-11T06:04:18.688920",
     "exception": false,
     "start_time": "2023-12-11T06:04:18.103535",
     "status": "completed"
    },
    "tags": []
   },
   "outputs": [
    {
     "data": {
      "application/javascript": [
       "parent.postMessage({\"jupyterEvent\": \"custom.exercise_interaction\", \"data\": {\"outcomeType\": 1, \"valueTowardsCompletion\": 0.5, \"interactionType\": 1, \"questionType\": 2, \"questionId\": \"1.1_Model1A\", \"learnToolsVersion\": \"0.3.4\", \"failureMessage\": \"\", \"exceptionClass\": \"\", \"trace\": \"\"}}, \"*\")"
      ],
      "text/plain": [
       "<IPython.core.display.Javascript object>"
      ]
     },
     "metadata": {},
     "output_type": "display_data"
    },
    {
     "data": {
      "text/markdown": [
       "<span style=\"color:#33cc33\">Correct</span>"
      ],
      "text/plain": [
       "Correct"
      ]
     },
     "metadata": {},
     "output_type": "display_data"
    }
   ],
   "source": [
    "from xgboost import XGBRegressor\n",
    "\n",
    "# Define the model\n",
    "my_model_1 = XGBRegressor(random_state=0) # Your code here\n",
    "\n",
    "# Fit the model\n",
    "my_model_1.fit(X_train, y_train) # Your code here\n",
    "\n",
    "# Check your answer\n",
    "step_1.a.check()"
   ]
  },
  {
   "cell_type": "code",
   "execution_count": 4,
   "id": "ea75b209",
   "metadata": {
    "execution": {
     "iopub.execute_input": "2023-12-11T06:04:18.718365Z",
     "iopub.status.busy": "2023-12-11T06:04:18.716608Z",
     "iopub.status.idle": "2023-12-11T06:04:18.728470Z",
     "shell.execute_reply": "2023-12-11T06:04:18.727260Z"
    },
    "papermill": {
     "duration": 0.027516,
     "end_time": "2023-12-11T06:04:18.731229",
     "exception": false,
     "start_time": "2023-12-11T06:04:18.703713",
     "status": "completed"
    },
    "tags": []
   },
   "outputs": [
    {
     "data": {
      "application/javascript": [
       "parent.postMessage({\"jupyterEvent\": \"custom.exercise_interaction\", \"data\": {\"interactionType\": 3, \"questionType\": 2, \"questionId\": \"1.1_Model1A\", \"learnToolsVersion\": \"0.3.4\", \"valueTowardsCompletion\": 0.0, \"failureMessage\": \"\", \"exceptionClass\": \"\", \"trace\": \"\", \"outcomeType\": 4}}, \"*\")"
      ],
      "text/plain": [
       "<IPython.core.display.Javascript object>"
      ]
     },
     "metadata": {},
     "output_type": "display_data"
    },
    {
     "data": {
      "text/markdown": [
       "<span style=\"color:#33cc99\">Solution:</span> \n",
       "```python\n",
       "# Define the model\n",
       "my_model_1 = XGBRegressor(random_state=0)\n",
       "\n",
       "# Fit the model\n",
       "my_model_1.fit(X_train, y_train)\n",
       "\n",
       "```"
      ],
      "text/plain": [
       "Solution: \n",
       "```python\n",
       "# Define the model\n",
       "my_model_1 = XGBRegressor(random_state=0)\n",
       "\n",
       "# Fit the model\n",
       "my_model_1.fit(X_train, y_train)\n",
       "\n",
       "```"
      ]
     },
     "metadata": {},
     "output_type": "display_data"
    }
   ],
   "source": [
    "# Lines below will give you a hint or solution code\n",
    "#step_1.a.hint()\n",
    "step_1.a.solution()"
   ]
  },
  {
   "cell_type": "markdown",
   "id": "fb2aec78",
   "metadata": {
    "papermill": {
     "duration": 0.008382,
     "end_time": "2023-12-11T06:04:18.752434",
     "exception": false,
     "start_time": "2023-12-11T06:04:18.744052",
     "status": "completed"
    },
    "tags": []
   },
   "source": [
    "### Part B\n",
    "\n",
    "Set `predictions_1` to the model's predictions for the validation data.  Recall that the validation features are stored in `X_valid`."
   ]
  },
  {
   "cell_type": "code",
   "execution_count": 5,
   "id": "55d3bc2a",
   "metadata": {
    "execution": {
     "iopub.execute_input": "2023-12-11T06:04:18.771464Z",
     "iopub.status.busy": "2023-12-11T06:04:18.770453Z",
     "iopub.status.idle": "2023-12-11T06:04:18.869503Z",
     "shell.execute_reply": "2023-12-11T06:04:18.867217Z"
    },
    "papermill": {
     "duration": 0.111715,
     "end_time": "2023-12-11T06:04:18.872441",
     "exception": false,
     "start_time": "2023-12-11T06:04:18.760726",
     "status": "completed"
    },
    "tags": []
   },
   "outputs": [
    {
     "data": {
      "application/javascript": [
       "parent.postMessage({\"jupyterEvent\": \"custom.exercise_interaction\", \"data\": {\"outcomeType\": 1, \"valueTowardsCompletion\": 0.5, \"interactionType\": 1, \"questionType\": 2, \"questionId\": \"1.2_Model1B\", \"learnToolsVersion\": \"0.3.4\", \"failureMessage\": \"\", \"exceptionClass\": \"\", \"trace\": \"\"}}, \"*\")"
      ],
      "text/plain": [
       "<IPython.core.display.Javascript object>"
      ]
     },
     "metadata": {},
     "output_type": "display_data"
    },
    {
     "data": {
      "text/markdown": [
       "<span style=\"color:#33cc33\">Correct</span>"
      ],
      "text/plain": [
       "Correct"
      ]
     },
     "metadata": {},
     "output_type": "display_data"
    }
   ],
   "source": [
    "from sklearn.metrics import mean_absolute_error\n",
    "\n",
    "# Get predictions\n",
    "predictions_1 = my_model_1.predict(X_valid) # Your code here\n",
    "\n",
    "# Check your answer\n",
    "step_1.b.check()"
   ]
  },
  {
   "cell_type": "code",
   "execution_count": 6,
   "id": "40777df8",
   "metadata": {
    "execution": {
     "iopub.execute_input": "2023-12-11T06:04:18.893743Z",
     "iopub.status.busy": "2023-12-11T06:04:18.892248Z",
     "iopub.status.idle": "2023-12-11T06:04:18.898440Z",
     "shell.execute_reply": "2023-12-11T06:04:18.897202Z"
    },
    "papermill": {
     "duration": 0.019703,
     "end_time": "2023-12-11T06:04:18.901032",
     "exception": false,
     "start_time": "2023-12-11T06:04:18.881329",
     "status": "completed"
    },
    "tags": []
   },
   "outputs": [],
   "source": [
    "# Lines below will give you a hint or solution code\n",
    "#step_1.b.hint()\n",
    "#step_1.b.solution()"
   ]
  },
  {
   "cell_type": "markdown",
   "id": "ce75500d",
   "metadata": {
    "papermill": {
     "duration": 0.00896,
     "end_time": "2023-12-11T06:04:18.919333",
     "exception": false,
     "start_time": "2023-12-11T06:04:18.910373",
     "status": "completed"
    },
    "tags": []
   },
   "source": [
    "### Part C\n",
    "\n",
    "Finally, use the `mean_absolute_error()` function to calculate the mean absolute error (MAE) corresponding to the predictions for the validation set.  Recall that the labels for the validation data are stored in `y_valid`."
   ]
  },
  {
   "cell_type": "code",
   "execution_count": 7,
   "id": "ecca926e",
   "metadata": {
    "execution": {
     "iopub.execute_input": "2023-12-11T06:04:18.944713Z",
     "iopub.status.busy": "2023-12-11T06:04:18.943886Z",
     "iopub.status.idle": "2023-12-11T06:04:18.955608Z",
     "shell.execute_reply": "2023-12-11T06:04:18.954470Z"
    },
    "papermill": {
     "duration": 0.028494,
     "end_time": "2023-12-11T06:04:18.958432",
     "exception": false,
     "start_time": "2023-12-11T06:04:18.929938",
     "status": "completed"
    },
    "tags": []
   },
   "outputs": [
    {
     "data": {
      "application/javascript": [
       "parent.postMessage({\"jupyterEvent\": \"custom.exercise_interaction\", \"data\": {\"outcomeType\": 1, \"valueTowardsCompletion\": 0.5, \"interactionType\": 1, \"questionType\": 2, \"questionId\": \"1.3_Model1C\", \"learnToolsVersion\": \"0.3.4\", \"failureMessage\": \"\", \"exceptionClass\": \"\", \"trace\": \"\"}}, \"*\")"
      ],
      "text/plain": [
       "<IPython.core.display.Javascript object>"
      ]
     },
     "metadata": {},
     "output_type": "display_data"
    },
    {
     "data": {
      "text/markdown": [
       "<span style=\"color:#33cc33\">Correct</span>"
      ],
      "text/plain": [
       "Correct"
      ]
     },
     "metadata": {},
     "output_type": "display_data"
    }
   ],
   "source": [
    "# Calculate MAE\n",
    "mae_1 = mean_absolute_error(predictions_1, y_valid) # Your code here\n",
    "\n",
    "# Uncomment to print MAE\n",
    "# print(\"Mean Absolute Error:\" , mae_1)\n",
    "\n",
    "# Check your answer\n",
    "step_1.c.check()"
   ]
  },
  {
   "cell_type": "code",
   "execution_count": 8,
   "id": "8ef1d7ea",
   "metadata": {
    "execution": {
     "iopub.execute_input": "2023-12-11T06:04:18.980912Z",
     "iopub.status.busy": "2023-12-11T06:04:18.979842Z",
     "iopub.status.idle": "2023-12-11T06:04:18.985558Z",
     "shell.execute_reply": "2023-12-11T06:04:18.984407Z"
    },
    "papermill": {
     "duration": 0.019698,
     "end_time": "2023-12-11T06:04:18.988358",
     "exception": false,
     "start_time": "2023-12-11T06:04:18.968660",
     "status": "completed"
    },
    "tags": []
   },
   "outputs": [],
   "source": [
    "# Lines below will give you a hint or solution code\n",
    "#step_1.c.hint()\n",
    "#step_1.c.solution()"
   ]
  },
  {
   "cell_type": "markdown",
   "id": "1714c1f6",
   "metadata": {
    "papermill": {
     "duration": 0.008764,
     "end_time": "2023-12-11T06:04:19.006247",
     "exception": false,
     "start_time": "2023-12-11T06:04:18.997483",
     "status": "completed"
    },
    "tags": []
   },
   "source": [
    "# Step 2: Improve the model\n",
    "\n",
    "Now that you've trained a default model as baseline, it's time to tinker with the parameters, to see if you can get better performance!\n",
    "- Begin by setting `my_model_2` to an XGBoost model, using the [XGBRegressor](https://xgboost.readthedocs.io/en/latest/python/python_api.html#xgboost.XGBRegressor) class.  Use what you learned in the previous tutorial to figure out how to change the default parameters (like `n_estimators` and `learning_rate`) to get better results.\n",
    "- Then, fit the model to the training data in `X_train` and `y_train`.\n",
    "- Set `predictions_2` to the model's predictions for the validation data.  Recall that the validation features are stored in `X_valid`.\n",
    "- Finally, use the `mean_absolute_error()` function to calculate the mean absolute error (MAE) corresponding to the predictions on the validation set.  Recall that the labels for the validation data are stored in `y_valid`.\n",
    "\n",
    "In order for this step to be marked correct, your model in `my_model_2` must attain lower MAE than the model in `my_model_1`. "
   ]
  },
  {
   "cell_type": "code",
   "execution_count": 9,
   "id": "825b9ca8",
   "metadata": {
    "execution": {
     "iopub.execute_input": "2023-12-11T06:04:19.027889Z",
     "iopub.status.busy": "2023-12-11T06:04:19.026818Z",
     "iopub.status.idle": "2023-12-11T06:04:26.699069Z",
     "shell.execute_reply": "2023-12-11T06:04:26.698125Z"
    },
    "papermill": {
     "duration": 7.686392,
     "end_time": "2023-12-11T06:04:26.702171",
     "exception": false,
     "start_time": "2023-12-11T06:04:19.015779",
     "status": "completed"
    },
    "tags": []
   },
   "outputs": [
    {
     "data": {
      "application/javascript": [
       "parent.postMessage({\"jupyterEvent\": \"custom.exercise_interaction\", \"data\": {\"outcomeType\": 1, \"valueTowardsCompletion\": 0.5, \"interactionType\": 1, \"questionType\": 2, \"questionId\": \"2_Model2\", \"learnToolsVersion\": \"0.3.4\", \"failureMessage\": \"\", \"exceptionClass\": \"\", \"trace\": \"\"}}, \"*\")"
      ],
      "text/plain": [
       "<IPython.core.display.Javascript object>"
      ]
     },
     "metadata": {},
     "output_type": "display_data"
    },
    {
     "data": {
      "text/markdown": [
       "<span style=\"color:#33cc33\">Correct</span>"
      ],
      "text/plain": [
       "Correct"
      ]
     },
     "metadata": {},
     "output_type": "display_data"
    }
   ],
   "source": [
    "# Define the model\n",
    "my_model_2 = XGBRegressor(n_estimators=1000, learning_rate=0.05, n_jobs=4) # Your code here\n",
    "\n",
    "# Fit the model\n",
    "my_model_2.fit(X_train, y_train, \n",
    "             eval_set=[(X_valid, y_valid)],\n",
    "             verbose=False)\n",
    " # Your code here\n",
    "\n",
    "# Get predictions\n",
    "predictions_2 = my_model_2.predict(X_valid) # Your code here\n",
    "\n",
    "# Calculate MAE\n",
    "mae_2 = mean_absolute_error(predictions_2, y_valid) # Your code here\n",
    "\n",
    "# Uncomment to print MAE\n",
    "# print(\"Mean Absolute Error:\" , mae_2)\n",
    "\n",
    "# Check your answer\n",
    "step_2.check()"
   ]
  },
  {
   "cell_type": "code",
   "execution_count": 10,
   "id": "b7a9b1d9",
   "metadata": {
    "execution": {
     "iopub.execute_input": "2023-12-11T06:04:26.722744Z",
     "iopub.status.busy": "2023-12-11T06:04:26.722325Z",
     "iopub.status.idle": "2023-12-11T06:04:26.730331Z",
     "shell.execute_reply": "2023-12-11T06:04:26.728924Z"
    },
    "papermill": {
     "duration": 0.021248,
     "end_time": "2023-12-11T06:04:26.732918",
     "exception": false,
     "start_time": "2023-12-11T06:04:26.711670",
     "status": "completed"
    },
    "tags": []
   },
   "outputs": [
    {
     "data": {
      "text/plain": [
       "17224.27947078339"
      ]
     },
     "execution_count": 10,
     "metadata": {},
     "output_type": "execute_result"
    }
   ],
   "source": [
    "mae_2"
   ]
  },
  {
   "cell_type": "code",
   "execution_count": 11,
   "id": "f9b83315",
   "metadata": {
    "execution": {
     "iopub.execute_input": "2023-12-11T06:04:26.753888Z",
     "iopub.status.busy": "2023-12-11T06:04:26.753465Z",
     "iopub.status.idle": "2023-12-11T06:04:26.758599Z",
     "shell.execute_reply": "2023-12-11T06:04:26.757419Z"
    },
    "papermill": {
     "duration": 0.018631,
     "end_time": "2023-12-11T06:04:26.760982",
     "exception": false,
     "start_time": "2023-12-11T06:04:26.742351",
     "status": "completed"
    },
    "tags": []
   },
   "outputs": [],
   "source": [
    "# Lines below will give you a hint or solution code\n",
    "#step_2.hint()\n",
    "#step_2.solution()"
   ]
  },
  {
   "cell_type": "markdown",
   "id": "cb6ed97b",
   "metadata": {
    "papermill": {
     "duration": 0.009144,
     "end_time": "2023-12-11T06:04:26.779614",
     "exception": false,
     "start_time": "2023-12-11T06:04:26.770470",
     "status": "completed"
    },
    "tags": []
   },
   "source": [
    "# Step 3: Break the model\n",
    "\n",
    "In this step, you will create a model that performs worse than the original model in Step 1.  This will help you to develop your intuition for how to set parameters.  You might even find that you accidentally get better performance, which is ultimately a nice problem to have and a valuable learning experience!\n",
    "- Begin by setting `my_model_3` to an XGBoost model, using the [XGBRegressor](https://xgboost.readthedocs.io/en/latest/python/python_api.html#xgboost.XGBRegressor) class.  Use what you learned in the previous tutorial to figure out how to change the default parameters (like `n_estimators` and `learning_rate`) to design a model to get high MAE.\n",
    "- Then, fit the model to the training data in `X_train` and `y_train`.\n",
    "- Set `predictions_3` to the model's predictions for the validation data.  Recall that the validation features are stored in `X_valid`.\n",
    "- Finally, use the `mean_absolute_error()` function to calculate the mean absolute error (MAE) corresponding to the predictions on the validation set.  Recall that the labels for the validation data are stored in `y_valid`.\n",
    "\n",
    "In order for this step to be marked correct, your model in `my_model_3` must attain higher MAE than the model in `my_model_1`. "
   ]
  },
  {
   "cell_type": "code",
   "execution_count": 12,
   "id": "fd4cb65a",
   "metadata": {
    "execution": {
     "iopub.execute_input": "2023-12-11T06:04:26.800784Z",
     "iopub.status.busy": "2023-12-11T06:04:26.800351Z",
     "iopub.status.idle": "2023-12-11T06:04:27.038321Z",
     "shell.execute_reply": "2023-12-11T06:04:27.037099Z"
    },
    "papermill": {
     "duration": 0.252158,
     "end_time": "2023-12-11T06:04:27.041539",
     "exception": false,
     "start_time": "2023-12-11T06:04:26.789381",
     "status": "completed"
    },
    "tags": []
   },
   "outputs": [
    {
     "name": "stdout",
     "output_type": "stream",
     "text": [
      "Mean Absolute Error: 54604.38415025685\n"
     ]
    },
    {
     "name": "stderr",
     "output_type": "stream",
     "text": [
      "/opt/conda/lib/python3.10/site-packages/xgboost/sklearn.py:885: UserWarning: `early_stopping_rounds` in `fit` method is deprecated for better compatibility with scikit-learn, use `early_stopping_rounds` in constructor or`set_params` instead.\n",
      "  warnings.warn(\n"
     ]
    },
    {
     "data": {
      "application/javascript": [
       "parent.postMessage({\"jupyterEvent\": \"custom.exercise_interaction\", \"data\": {\"outcomeType\": 1, \"valueTowardsCompletion\": 0.5, \"interactionType\": 1, \"questionType\": 2, \"questionId\": \"3_Model3\", \"learnToolsVersion\": \"0.3.4\", \"failureMessage\": \"\", \"exceptionClass\": \"\", \"trace\": \"\"}}, \"*\")"
      ],
      "text/plain": [
       "<IPython.core.display.Javascript object>"
      ]
     },
     "metadata": {},
     "output_type": "display_data"
    },
    {
     "data": {
      "text/markdown": [
       "<span style=\"color:#33cc33\">Correct</span>"
      ],
      "text/plain": [
       "Correct"
      ]
     },
     "metadata": {},
     "output_type": "display_data"
    }
   ],
   "source": [
    "# Define the model\n",
    "my_model_3 =  XGBRegressor(n_estimators=1, learning_rate=0.05, n_jobs=4)\n",
    "\n",
    "# Fit the model\n",
    "my_model_3.fit(X_train, y_train, \n",
    "             early_stopping_rounds=5,  \n",
    "             eval_set=[(X_valid, y_valid)],\n",
    "             verbose=False) # Your code here\n",
    "\n",
    "# Get predictions\n",
    "predictions_3 = my_model_3.predict(X_valid)\n",
    "\n",
    "# Calculate MAE\n",
    "mae_3 = mean_absolute_error(predictions_3, y_valid)\n",
    "\n",
    "# Uncomment to print MAE\n",
    "print(\"Mean Absolute Error:\" , mae_3)\n",
    "\n",
    "# Check your answer\n",
    "step_3.check()"
   ]
  },
  {
   "cell_type": "code",
   "execution_count": 13,
   "id": "39b772e9",
   "metadata": {
    "execution": {
     "iopub.execute_input": "2023-12-11T06:04:27.065719Z",
     "iopub.status.busy": "2023-12-11T06:04:27.065320Z",
     "iopub.status.idle": "2023-12-11T06:04:27.070608Z",
     "shell.execute_reply": "2023-12-11T06:04:27.068974Z"
    },
    "papermill": {
     "duration": 0.02122,
     "end_time": "2023-12-11T06:04:27.073842",
     "exception": false,
     "start_time": "2023-12-11T06:04:27.052622",
     "status": "completed"
    },
    "tags": []
   },
   "outputs": [],
   "source": [
    "# Lines below will give you a hint or solution code\n",
    "#step_3.hint()\n",
    "#step_3.solution()"
   ]
  },
  {
   "cell_type": "markdown",
   "id": "c45fbe36",
   "metadata": {
    "papermill": {
     "duration": 0.010828,
     "end_time": "2023-12-11T06:04:27.095170",
     "exception": false,
     "start_time": "2023-12-11T06:04:27.084342",
     "status": "completed"
    },
    "tags": []
   },
   "source": [
    "# Keep going\n",
    "\n",
    "Continue to learn about **[data leakage](https://www.kaggle.com/alexisbcook/data-leakage)**.  This is an important issue for a data scientist to understand, and it has the potential to ruin your models in subtle and dangerous ways!"
   ]
  },
  {
   "cell_type": "markdown",
   "id": "9cb52783",
   "metadata": {
    "papermill": {
     "duration": 0.00972,
     "end_time": "2023-12-11T06:04:27.114829",
     "exception": false,
     "start_time": "2023-12-11T06:04:27.105109",
     "status": "completed"
    },
    "tags": []
   },
   "source": [
    "---\n",
    "\n",
    "\n",
    "\n",
    "\n",
    "*Have questions or comments? Visit the [course discussion forum](https://www.kaggle.com/learn/intermediate-machine-learning/discussion) to chat with other learners.*"
   ]
  }
 ],
 "metadata": {
  "kaggle": {
   "accelerator": "none",
   "dataSources": [
    {
     "databundleVersionId": 111096,
     "sourceId": 10211,
     "sourceType": "competition"
    }
   ],
   "isGpuEnabled": false,
   "isInternetEnabled": false,
   "language": "python",
   "sourceType": "notebook"
  },
  "kernelspec": {
   "display_name": "Python 3",
   "language": "python",
   "name": "python3"
  },
  "language_info": {
   "codemirror_mode": {
    "name": "ipython",
    "version": 3
   },
   "file_extension": ".py",
   "mimetype": "text/x-python",
   "name": "python",
   "nbconvert_exporter": "python",
   "pygments_lexer": "ipython3",
   "version": "3.10.12"
  },
  "papermill": {
   "default_parameters": {},
   "duration": 16.931069,
   "end_time": "2023-12-11T06:04:27.746861",
   "environment_variables": {},
   "exception": null,
   "input_path": "__notebook__.ipynb",
   "output_path": "__notebook__.ipynb",
   "parameters": {},
   "start_time": "2023-12-11T06:04:10.815792",
   "version": "2.4.0"
  }
 },
 "nbformat": 4,
 "nbformat_minor": 5
}
