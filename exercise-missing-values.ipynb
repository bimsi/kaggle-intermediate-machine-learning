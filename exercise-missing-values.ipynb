{
 "cells": [
  {
   "cell_type": "markdown",
   "id": "8c08486d",
   "metadata": {
    "papermill": {
     "duration": 0.01247,
     "end_time": "2023-12-10T07:23:15.055307",
     "exception": false,
     "start_time": "2023-12-10T07:23:15.042837",
     "status": "completed"
    },
    "tags": []
   },
   "source": [
    "**This notebook is an exercise in the [Intermediate Machine Learning](https://www.kaggle.com/learn/intermediate-machine-learning) course.  You can reference the tutorial at [this link](https://www.kaggle.com/alexisbcook/missing-values).**\n",
    "\n",
    "---\n"
   ]
  },
  {
   "cell_type": "markdown",
   "id": "512dc4f5",
   "metadata": {
    "papermill": {
     "duration": 0.011524,
     "end_time": "2023-12-10T07:23:15.078935",
     "exception": false,
     "start_time": "2023-12-10T07:23:15.067411",
     "status": "completed"
    },
    "tags": []
   },
   "source": [
    "Now it's your turn to test your new knowledge of **missing values** handling. You'll probably find it makes a big difference.\n",
    "\n",
    "# Setup\n",
    "\n",
    "The questions will give you feedback on your work. Run the following cell to set up the feedback system."
   ]
  },
  {
   "cell_type": "code",
   "execution_count": 1,
   "id": "77cfb6a4",
   "metadata": {
    "execution": {
     "iopub.execute_input": "2023-12-10T07:23:15.105413Z",
     "iopub.status.busy": "2023-12-10T07:23:15.104711Z",
     "iopub.status.idle": "2023-12-10T07:23:15.583126Z",
     "shell.execute_reply": "2023-12-10T07:23:15.581819Z"
    },
    "papermill": {
     "duration": 0.494595,
     "end_time": "2023-12-10T07:23:15.585566",
     "exception": false,
     "start_time": "2023-12-10T07:23:15.090971",
     "status": "completed"
    },
    "tags": []
   },
   "outputs": [
    {
     "name": "stdout",
     "output_type": "stream",
     "text": [
      "Setup Complete\n"
     ]
    }
   ],
   "source": [
    "# Set up code checking\n",
    "import os\n",
    "if not os.path.exists(\"../input/train.csv\"):\n",
    "    os.symlink(\"../input/home-data-for-ml-course/train.csv\", \"../input/train.csv\")  \n",
    "    os.symlink(\"../input/home-data-for-ml-course/test.csv\", \"../input/test.csv\") \n",
    "from learntools.core import binder\n",
    "binder.bind(globals())\n",
    "from learntools.ml_intermediate.ex2 import *\n",
    "print(\"Setup Complete\")"
   ]
  },
  {
   "cell_type": "markdown",
   "id": "14a2226a",
   "metadata": {
    "papermill": {
     "duration": 0.01197,
     "end_time": "2023-12-10T07:23:15.610102",
     "exception": false,
     "start_time": "2023-12-10T07:23:15.598132",
     "status": "completed"
    },
    "tags": []
   },
   "source": [
    "In this exercise, you will work with data from the [Housing Prices Competition for Kaggle Learn Users](https://www.kaggle.com/c/home-data-for-ml-course). \n",
    "\n",
    "![Ames Housing dataset image](https://storage.googleapis.com/kaggle-media/learn/images/lTJVG4e.png)\n",
    "\n",
    "Run the next code cell without changes to load the training and validation sets in `X_train`, `X_valid`, `y_train`, and `y_valid`.  The test set is loaded in `X_test`."
   ]
  },
  {
   "cell_type": "code",
   "execution_count": 2,
   "id": "6d64adca",
   "metadata": {
    "execution": {
     "iopub.execute_input": "2023-12-10T07:23:15.637745Z",
     "iopub.status.busy": "2023-12-10T07:23:15.637211Z",
     "iopub.status.idle": "2023-12-10T07:23:17.200593Z",
     "shell.execute_reply": "2023-12-10T07:23:17.199440Z"
    },
    "papermill": {
     "duration": 1.580722,
     "end_time": "2023-12-10T07:23:17.203338",
     "exception": false,
     "start_time": "2023-12-10T07:23:15.622616",
     "status": "completed"
    },
    "tags": []
   },
   "outputs": [],
   "source": [
    "import pandas as pd\n",
    "from sklearn.model_selection import train_test_split\n",
    "\n",
    "# Read the data\n",
    "X_full = pd.read_csv('../input/train.csv', index_col='Id')\n",
    "X_test_full = pd.read_csv('../input/test.csv', index_col='Id')\n",
    "\n",
    "# Remove rows with missing target, separate target from predictors\n",
    "X_full.dropna(axis=0, subset=['SalePrice'], inplace=True)\n",
    "y = X_full.SalePrice\n",
    "X_full.drop(['SalePrice'], axis=1, inplace=True)\n",
    "\n",
    "# To keep things simple, we'll use only numerical predictors\n",
    "X = X_full.select_dtypes(exclude=['object'])\n",
    "X_test = X_test_full.select_dtypes(exclude=['object'])\n",
    "\n",
    "# Break off validation set from training data\n",
    "X_train, X_valid, y_train, y_valid = train_test_split(X, y, train_size=0.8, test_size=0.2,\n",
    "                                                      random_state=0)"
   ]
  },
  {
   "cell_type": "markdown",
   "id": "3685ac1a",
   "metadata": {
    "papermill": {
     "duration": 0.011883,
     "end_time": "2023-12-10T07:23:17.227856",
     "exception": false,
     "start_time": "2023-12-10T07:23:17.215973",
     "status": "completed"
    },
    "tags": []
   },
   "source": [
    "Use the next code cell to print the first five rows of the data."
   ]
  },
  {
   "cell_type": "code",
   "execution_count": 3,
   "id": "e0e738da",
   "metadata": {
    "execution": {
     "iopub.execute_input": "2023-12-10T07:23:17.254405Z",
     "iopub.status.busy": "2023-12-10T07:23:17.253975Z",
     "iopub.status.idle": "2023-12-10T07:23:17.280962Z",
     "shell.execute_reply": "2023-12-10T07:23:17.279972Z"
    },
    "papermill": {
     "duration": 0.042769,
     "end_time": "2023-12-10T07:23:17.283234",
     "exception": false,
     "start_time": "2023-12-10T07:23:17.240465",
     "status": "completed"
    },
    "tags": []
   },
   "outputs": [
    {
     "data": {
      "text/html": [
       "<div>\n",
       "<style scoped>\n",
       "    .dataframe tbody tr th:only-of-type {\n",
       "        vertical-align: middle;\n",
       "    }\n",
       "\n",
       "    .dataframe tbody tr th {\n",
       "        vertical-align: top;\n",
       "    }\n",
       "\n",
       "    .dataframe thead th {\n",
       "        text-align: right;\n",
       "    }\n",
       "</style>\n",
       "<table border=\"1\" class=\"dataframe\">\n",
       "  <thead>\n",
       "    <tr style=\"text-align: right;\">\n",
       "      <th></th>\n",
       "      <th>MSSubClass</th>\n",
       "      <th>LotFrontage</th>\n",
       "      <th>LotArea</th>\n",
       "      <th>OverallQual</th>\n",
       "      <th>OverallCond</th>\n",
       "      <th>YearBuilt</th>\n",
       "      <th>YearRemodAdd</th>\n",
       "      <th>MasVnrArea</th>\n",
       "      <th>BsmtFinSF1</th>\n",
       "      <th>BsmtFinSF2</th>\n",
       "      <th>...</th>\n",
       "      <th>GarageArea</th>\n",
       "      <th>WoodDeckSF</th>\n",
       "      <th>OpenPorchSF</th>\n",
       "      <th>EnclosedPorch</th>\n",
       "      <th>3SsnPorch</th>\n",
       "      <th>ScreenPorch</th>\n",
       "      <th>PoolArea</th>\n",
       "      <th>MiscVal</th>\n",
       "      <th>MoSold</th>\n",
       "      <th>YrSold</th>\n",
       "    </tr>\n",
       "    <tr>\n",
       "      <th>Id</th>\n",
       "      <th></th>\n",
       "      <th></th>\n",
       "      <th></th>\n",
       "      <th></th>\n",
       "      <th></th>\n",
       "      <th></th>\n",
       "      <th></th>\n",
       "      <th></th>\n",
       "      <th></th>\n",
       "      <th></th>\n",
       "      <th></th>\n",
       "      <th></th>\n",
       "      <th></th>\n",
       "      <th></th>\n",
       "      <th></th>\n",
       "      <th></th>\n",
       "      <th></th>\n",
       "      <th></th>\n",
       "      <th></th>\n",
       "      <th></th>\n",
       "      <th></th>\n",
       "    </tr>\n",
       "  </thead>\n",
       "  <tbody>\n",
       "    <tr>\n",
       "      <th>619</th>\n",
       "      <td>20</td>\n",
       "      <td>90.0</td>\n",
       "      <td>11694</td>\n",
       "      <td>9</td>\n",
       "      <td>5</td>\n",
       "      <td>2007</td>\n",
       "      <td>2007</td>\n",
       "      <td>452.0</td>\n",
       "      <td>48</td>\n",
       "      <td>0</td>\n",
       "      <td>...</td>\n",
       "      <td>774</td>\n",
       "      <td>0</td>\n",
       "      <td>108</td>\n",
       "      <td>0</td>\n",
       "      <td>0</td>\n",
       "      <td>260</td>\n",
       "      <td>0</td>\n",
       "      <td>0</td>\n",
       "      <td>7</td>\n",
       "      <td>2007</td>\n",
       "    </tr>\n",
       "    <tr>\n",
       "      <th>871</th>\n",
       "      <td>20</td>\n",
       "      <td>60.0</td>\n",
       "      <td>6600</td>\n",
       "      <td>5</td>\n",
       "      <td>5</td>\n",
       "      <td>1962</td>\n",
       "      <td>1962</td>\n",
       "      <td>0.0</td>\n",
       "      <td>0</td>\n",
       "      <td>0</td>\n",
       "      <td>...</td>\n",
       "      <td>308</td>\n",
       "      <td>0</td>\n",
       "      <td>0</td>\n",
       "      <td>0</td>\n",
       "      <td>0</td>\n",
       "      <td>0</td>\n",
       "      <td>0</td>\n",
       "      <td>0</td>\n",
       "      <td>8</td>\n",
       "      <td>2009</td>\n",
       "    </tr>\n",
       "    <tr>\n",
       "      <th>93</th>\n",
       "      <td>30</td>\n",
       "      <td>80.0</td>\n",
       "      <td>13360</td>\n",
       "      <td>5</td>\n",
       "      <td>7</td>\n",
       "      <td>1921</td>\n",
       "      <td>2006</td>\n",
       "      <td>0.0</td>\n",
       "      <td>713</td>\n",
       "      <td>0</td>\n",
       "      <td>...</td>\n",
       "      <td>432</td>\n",
       "      <td>0</td>\n",
       "      <td>0</td>\n",
       "      <td>44</td>\n",
       "      <td>0</td>\n",
       "      <td>0</td>\n",
       "      <td>0</td>\n",
       "      <td>0</td>\n",
       "      <td>8</td>\n",
       "      <td>2009</td>\n",
       "    </tr>\n",
       "    <tr>\n",
       "      <th>818</th>\n",
       "      <td>20</td>\n",
       "      <td>NaN</td>\n",
       "      <td>13265</td>\n",
       "      <td>8</td>\n",
       "      <td>5</td>\n",
       "      <td>2002</td>\n",
       "      <td>2002</td>\n",
       "      <td>148.0</td>\n",
       "      <td>1218</td>\n",
       "      <td>0</td>\n",
       "      <td>...</td>\n",
       "      <td>857</td>\n",
       "      <td>150</td>\n",
       "      <td>59</td>\n",
       "      <td>0</td>\n",
       "      <td>0</td>\n",
       "      <td>0</td>\n",
       "      <td>0</td>\n",
       "      <td>0</td>\n",
       "      <td>7</td>\n",
       "      <td>2008</td>\n",
       "    </tr>\n",
       "    <tr>\n",
       "      <th>303</th>\n",
       "      <td>20</td>\n",
       "      <td>118.0</td>\n",
       "      <td>13704</td>\n",
       "      <td>7</td>\n",
       "      <td>5</td>\n",
       "      <td>2001</td>\n",
       "      <td>2002</td>\n",
       "      <td>150.0</td>\n",
       "      <td>0</td>\n",
       "      <td>0</td>\n",
       "      <td>...</td>\n",
       "      <td>843</td>\n",
       "      <td>468</td>\n",
       "      <td>81</td>\n",
       "      <td>0</td>\n",
       "      <td>0</td>\n",
       "      <td>0</td>\n",
       "      <td>0</td>\n",
       "      <td>0</td>\n",
       "      <td>1</td>\n",
       "      <td>2006</td>\n",
       "    </tr>\n",
       "  </tbody>\n",
       "</table>\n",
       "<p>5 rows × 36 columns</p>\n",
       "</div>"
      ],
      "text/plain": [
       "     MSSubClass  LotFrontage  LotArea  OverallQual  OverallCond  YearBuilt  \\\n",
       "Id                                                                           \n",
       "619          20         90.0    11694            9            5       2007   \n",
       "871          20         60.0     6600            5            5       1962   \n",
       "93           30         80.0    13360            5            7       1921   \n",
       "818          20          NaN    13265            8            5       2002   \n",
       "303          20        118.0    13704            7            5       2001   \n",
       "\n",
       "     YearRemodAdd  MasVnrArea  BsmtFinSF1  BsmtFinSF2  ...  GarageArea  \\\n",
       "Id                                                     ...               \n",
       "619          2007       452.0          48           0  ...         774   \n",
       "871          1962         0.0           0           0  ...         308   \n",
       "93           2006         0.0         713           0  ...         432   \n",
       "818          2002       148.0        1218           0  ...         857   \n",
       "303          2002       150.0           0           0  ...         843   \n",
       "\n",
       "     WoodDeckSF  OpenPorchSF  EnclosedPorch  3SsnPorch  ScreenPorch  PoolArea  \\\n",
       "Id                                                                              \n",
       "619           0          108              0          0          260         0   \n",
       "871           0            0              0          0            0         0   \n",
       "93            0            0             44          0            0         0   \n",
       "818         150           59              0          0            0         0   \n",
       "303         468           81              0          0            0         0   \n",
       "\n",
       "     MiscVal  MoSold  YrSold  \n",
       "Id                            \n",
       "619        0       7    2007  \n",
       "871        0       8    2009  \n",
       "93         0       8    2009  \n",
       "818        0       7    2008  \n",
       "303        0       1    2006  \n",
       "\n",
       "[5 rows x 36 columns]"
      ]
     },
     "execution_count": 3,
     "metadata": {},
     "output_type": "execute_result"
    }
   ],
   "source": [
    "X_train.head()"
   ]
  },
  {
   "cell_type": "markdown",
   "id": "6b98d355",
   "metadata": {
    "papermill": {
     "duration": 0.01277,
     "end_time": "2023-12-10T07:23:17.309705",
     "exception": false,
     "start_time": "2023-12-10T07:23:17.296935",
     "status": "completed"
    },
    "tags": []
   },
   "source": [
    "You can already see a few missing values in the first several rows.  In the next step, you'll obtain a more comprehensive understanding of the missing values in the dataset.\n",
    "\n",
    "# Step 1: Preliminary investigation\n",
    "\n",
    "Run the code cell below without changes."
   ]
  },
  {
   "cell_type": "code",
   "execution_count": 4,
   "id": "3704a25d",
   "metadata": {
    "execution": {
     "iopub.execute_input": "2023-12-10T07:23:17.337780Z",
     "iopub.status.busy": "2023-12-10T07:23:17.337081Z",
     "iopub.status.idle": "2023-12-10T07:23:17.344875Z",
     "shell.execute_reply": "2023-12-10T07:23:17.343761Z"
    },
    "papermill": {
     "duration": 0.024493,
     "end_time": "2023-12-10T07:23:17.347434",
     "exception": false,
     "start_time": "2023-12-10T07:23:17.322941",
     "status": "completed"
    },
    "tags": []
   },
   "outputs": [
    {
     "name": "stdout",
     "output_type": "stream",
     "text": [
      "(1168, 36)\n",
      "LotFrontage    212\n",
      "MasVnrArea       6\n",
      "GarageYrBlt     58\n",
      "dtype: int64\n"
     ]
    }
   ],
   "source": [
    "# Shape of training data (num_rows, num_columns)\n",
    "print(X_train.shape)\n",
    "\n",
    "# Number of missing values in each column of training data\n",
    "missing_val_count_by_column = (X_train.isnull().sum())\n",
    "print(missing_val_count_by_column[missing_val_count_by_column > 0])"
   ]
  },
  {
   "cell_type": "markdown",
   "id": "2edb0ea0",
   "metadata": {
    "papermill": {
     "duration": 0.012345,
     "end_time": "2023-12-10T07:23:17.372967",
     "exception": false,
     "start_time": "2023-12-10T07:23:17.360622",
     "status": "completed"
    },
    "tags": []
   },
   "source": [
    "### Part A\n",
    "\n",
    "Use the above output to answer the questions below."
   ]
  },
  {
   "cell_type": "code",
   "execution_count": 5,
   "id": "76056098",
   "metadata": {
    "execution": {
     "iopub.execute_input": "2023-12-10T07:23:17.401608Z",
     "iopub.status.busy": "2023-12-10T07:23:17.401213Z",
     "iopub.status.idle": "2023-12-10T07:23:17.412934Z",
     "shell.execute_reply": "2023-12-10T07:23:17.411881Z"
    },
    "papermill": {
     "duration": 0.027906,
     "end_time": "2023-12-10T07:23:17.415185",
     "exception": false,
     "start_time": "2023-12-10T07:23:17.387279",
     "status": "completed"
    },
    "tags": []
   },
   "outputs": [
    {
     "data": {
      "application/javascript": [
       "parent.postMessage({\"jupyterEvent\": \"custom.exercise_interaction\", \"data\": {\"outcomeType\": 1, \"valueTowardsCompletion\": 1.0, \"interactionType\": 1, \"questionType\": 1, \"questionId\": \"1.1_InvestigateEquality\", \"learnToolsVersion\": \"0.3.4\", \"failureMessage\": \"\", \"exceptionClass\": \"\", \"trace\": \"\"}}, \"*\")"
      ],
      "text/plain": [
       "<IPython.core.display.Javascript object>"
      ]
     },
     "metadata": {},
     "output_type": "display_data"
    },
    {
     "data": {
      "text/markdown": [
       "<span style=\"color:#33cc33\">Correct</span>"
      ],
      "text/plain": [
       "Correct"
      ]
     },
     "metadata": {},
     "output_type": "display_data"
    }
   ],
   "source": [
    "# Fill in the line below: How many rows are in the training data?\n",
    "num_rows = X_train.shape[0]\n",
    "\n",
    "# Fill in the line below: How many columns in the training data\n",
    "# have missing values?\n",
    "num_cols_with_missing = (missing_val_count_by_column[missing_val_count_by_column > 0]).count()\n",
    "\n",
    "# Fill in the line below: How many missing entries are contained in \n",
    "# all of the training data?\n",
    "tot_missing = (missing_val_count_by_column[missing_val_count_by_column > 0]).sum()\n",
    "\n",
    "# Check your answers\n",
    "step_1.a.check()"
   ]
  },
  {
   "cell_type": "code",
   "execution_count": 6,
   "id": "0e461b14",
   "metadata": {
    "execution": {
     "iopub.execute_input": "2023-12-10T07:23:17.443268Z",
     "iopub.status.busy": "2023-12-10T07:23:17.442549Z",
     "iopub.status.idle": "2023-12-10T07:23:17.447309Z",
     "shell.execute_reply": "2023-12-10T07:23:17.446114Z"
    },
    "papermill": {
     "duration": 0.021517,
     "end_time": "2023-12-10T07:23:17.449812",
     "exception": false,
     "start_time": "2023-12-10T07:23:17.428295",
     "status": "completed"
    },
    "tags": []
   },
   "outputs": [],
   "source": [
    "# Lines below will give you a hint or solution code\n",
    "#step_1.a.hint()\n",
    "#step_1.a.solution()"
   ]
  },
  {
   "cell_type": "markdown",
   "id": "5fc4aac1",
   "metadata": {
    "papermill": {
     "duration": 0.012631,
     "end_time": "2023-12-10T07:23:17.475726",
     "exception": false,
     "start_time": "2023-12-10T07:23:17.463095",
     "status": "completed"
    },
    "tags": []
   },
   "source": [
    "### Part B\n",
    "Considering your answers above, what do you think is likely the best approach to dealing with the missing values?"
   ]
  },
  {
   "cell_type": "code",
   "execution_count": 7,
   "id": "0f3fe273",
   "metadata": {
    "execution": {
     "iopub.execute_input": "2023-12-10T07:23:17.503803Z",
     "iopub.status.busy": "2023-12-10T07:23:17.503419Z",
     "iopub.status.idle": "2023-12-10T07:23:17.514175Z",
     "shell.execute_reply": "2023-12-10T07:23:17.512491Z"
    },
    "papermill": {
     "duration": 0.028301,
     "end_time": "2023-12-10T07:23:17.517181",
     "exception": false,
     "start_time": "2023-12-10T07:23:17.488880",
     "status": "completed"
    },
    "tags": []
   },
   "outputs": [
    {
     "data": {
      "application/javascript": [
       "parent.postMessage({\"jupyterEvent\": \"custom.exercise_interaction\", \"data\": {\"outcomeType\": 1, \"valueTowardsCompletion\": 1.0, \"interactionType\": 1, \"questionType\": 4, \"questionId\": \"1.2_InvestigateThought\", \"learnToolsVersion\": \"0.3.4\", \"failureMessage\": \"\", \"exceptionClass\": \"\", \"trace\": \"\"}}, \"*\")"
      ],
      "text/plain": [
       "<IPython.core.display.Javascript object>"
      ]
     },
     "metadata": {},
     "output_type": "display_data"
    },
    {
     "data": {
      "text/markdown": [
       "<span style=\"color:#33cc33\">Correct:</span> \n",
       "\n",
       "Since there are relatively few missing entries in the data (the column with the greatest percentage of missing values is missing less than 20% of its entries), we can expect that dropping columns is unlikely to yield good results.  This is because we'd be throwing away a lot of valuable data, and so imputation will likely perform better."
      ],
      "text/plain": [
       "Correct: \n",
       "\n",
       "Since there are relatively few missing entries in the data (the column with the greatest percentage of missing values is missing less than 20% of its entries), we can expect that dropping columns is unlikely to yield good results.  This is because we'd be throwing away a lot of valuable data, and so imputation will likely perform better."
      ]
     },
     "metadata": {},
     "output_type": "display_data"
    }
   ],
   "source": [
    "# Check your answer (Run this code cell to receive credit!)\n",
    "step_1.b.check()"
   ]
  },
  {
   "cell_type": "code",
   "execution_count": 8,
   "id": "2caefd09",
   "metadata": {
    "execution": {
     "iopub.execute_input": "2023-12-10T07:23:17.546153Z",
     "iopub.status.busy": "2023-12-10T07:23:17.545428Z",
     "iopub.status.idle": "2023-12-10T07:23:17.550409Z",
     "shell.execute_reply": "2023-12-10T07:23:17.549355Z"
    },
    "papermill": {
     "duration": 0.021977,
     "end_time": "2023-12-10T07:23:17.552739",
     "exception": false,
     "start_time": "2023-12-10T07:23:17.530762",
     "status": "completed"
    },
    "tags": []
   },
   "outputs": [],
   "source": [
    "#step_1.b.hint()"
   ]
  },
  {
   "cell_type": "markdown",
   "id": "4be3c7eb",
   "metadata": {
    "papermill": {
     "duration": 0.012893,
     "end_time": "2023-12-10T07:23:17.579119",
     "exception": false,
     "start_time": "2023-12-10T07:23:17.566226",
     "status": "completed"
    },
    "tags": []
   },
   "source": [
    "To compare different approaches to dealing with missing values, you'll use the same `score_dataset()` function from the tutorial.  This function reports the [mean absolute error](https://en.wikipedia.org/wiki/Mean_absolute_error) (MAE) from a random forest model."
   ]
  },
  {
   "cell_type": "code",
   "execution_count": 9,
   "id": "0eb07e23",
   "metadata": {
    "execution": {
     "iopub.execute_input": "2023-12-10T07:23:17.607586Z",
     "iopub.status.busy": "2023-12-10T07:23:17.607184Z",
     "iopub.status.idle": "2023-12-10T07:23:17.965169Z",
     "shell.execute_reply": "2023-12-10T07:23:17.964163Z"
    },
    "papermill": {
     "duration": 0.375319,
     "end_time": "2023-12-10T07:23:17.967929",
     "exception": false,
     "start_time": "2023-12-10T07:23:17.592610",
     "status": "completed"
    },
    "tags": []
   },
   "outputs": [],
   "source": [
    "from sklearn.ensemble import RandomForestRegressor\n",
    "from sklearn.metrics import mean_absolute_error\n",
    "\n",
    "# Function for comparing different approaches\n",
    "def score_dataset(X_train, X_valid, y_train, y_valid):\n",
    "    model = RandomForestRegressor(n_estimators=100, random_state=0)\n",
    "    model.fit(X_train, y_train)\n",
    "    preds = model.predict(X_valid)\n",
    "    return mean_absolute_error(y_valid, preds)"
   ]
  },
  {
   "cell_type": "markdown",
   "id": "28043233",
   "metadata": {
    "papermill": {
     "duration": 0.013085,
     "end_time": "2023-12-10T07:23:17.994562",
     "exception": false,
     "start_time": "2023-12-10T07:23:17.981477",
     "status": "completed"
    },
    "tags": []
   },
   "source": [
    "# Step 2: Drop columns with missing values\n",
    "\n",
    "In this step, you'll preprocess the data in `X_train` and `X_valid` to remove columns with missing values.  Set the preprocessed DataFrames to `reduced_X_train` and `reduced_X_valid`, respectively.  "
   ]
  },
  {
   "cell_type": "code",
   "execution_count": 10,
   "id": "0539d9a2",
   "metadata": {
    "execution": {
     "iopub.execute_input": "2023-12-10T07:23:18.023603Z",
     "iopub.status.busy": "2023-12-10T07:23:18.022931Z",
     "iopub.status.idle": "2023-12-10T07:23:18.051182Z",
     "shell.execute_reply": "2023-12-10T07:23:18.050376Z"
    },
    "papermill": {
     "duration": 0.045305,
     "end_time": "2023-12-10T07:23:18.053268",
     "exception": false,
     "start_time": "2023-12-10T07:23:18.007963",
     "status": "completed"
    },
    "tags": []
   },
   "outputs": [
    {
     "data": {
      "application/javascript": [
       "parent.postMessage({\"jupyterEvent\": \"custom.exercise_interaction\", \"data\": {\"outcomeType\": 1, \"valueTowardsCompletion\": 1.0, \"interactionType\": 1, \"questionType\": 2, \"questionId\": \"2_DropMissing\", \"learnToolsVersion\": \"0.3.4\", \"failureMessage\": \"\", \"exceptionClass\": \"\", \"trace\": \"\"}}, \"*\")"
      ],
      "text/plain": [
       "<IPython.core.display.Javascript object>"
      ]
     },
     "metadata": {},
     "output_type": "display_data"
    },
    {
     "data": {
      "text/markdown": [
       "<span style=\"color:#33cc33\">Correct</span>"
      ],
      "text/plain": [
       "Correct"
      ]
     },
     "metadata": {},
     "output_type": "display_data"
    }
   ],
   "source": [
    "# Fill in the line below: get names of columns with missing values\n",
    "cols_with_missing = [col for col in X_train.columns\n",
    "                     if X_train[col].isnull().any()] # Your code here\n",
    "\n",
    "# Fill in the lines below: drop columns in training and validation data\n",
    "reduced_X_train = X_train.drop(cols_with_missing, axis=1)\n",
    "reduced_X_valid = X_valid.drop(cols_with_missing, axis=1)\n",
    "\n",
    "# Check your answers\n",
    "step_2.check()"
   ]
  },
  {
   "cell_type": "code",
   "execution_count": 11,
   "id": "71abb129",
   "metadata": {
    "execution": {
     "iopub.execute_input": "2023-12-10T07:23:18.146168Z",
     "iopub.status.busy": "2023-12-10T07:23:18.145729Z",
     "iopub.status.idle": "2023-12-10T07:23:18.149986Z",
     "shell.execute_reply": "2023-12-10T07:23:18.148883Z"
    },
    "papermill": {
     "duration": 0.022604,
     "end_time": "2023-12-10T07:23:18.152344",
     "exception": false,
     "start_time": "2023-12-10T07:23:18.129740",
     "status": "completed"
    },
    "tags": []
   },
   "outputs": [],
   "source": [
    "# Lines below will give you a hint or solution code\n",
    "#step_2.hint()\n",
    "#step_2.solution()"
   ]
  },
  {
   "cell_type": "markdown",
   "id": "87c325ae",
   "metadata": {
    "papermill": {
     "duration": 0.013657,
     "end_time": "2023-12-10T07:23:18.179945",
     "exception": false,
     "start_time": "2023-12-10T07:23:18.166288",
     "status": "completed"
    },
    "tags": []
   },
   "source": [
    "Run the next code cell without changes to obtain the MAE for this approach."
   ]
  },
  {
   "cell_type": "code",
   "execution_count": 12,
   "id": "9349778a",
   "metadata": {
    "execution": {
     "iopub.execute_input": "2023-12-10T07:23:18.210075Z",
     "iopub.status.busy": "2023-12-10T07:23:18.209215Z",
     "iopub.status.idle": "2023-12-10T07:23:19.501338Z",
     "shell.execute_reply": "2023-12-10T07:23:19.500217Z"
    },
    "papermill": {
     "duration": 1.310165,
     "end_time": "2023-12-10T07:23:19.503996",
     "exception": false,
     "start_time": "2023-12-10T07:23:18.193831",
     "status": "completed"
    },
    "tags": []
   },
   "outputs": [
    {
     "name": "stdout",
     "output_type": "stream",
     "text": [
      "MAE (Drop columns with missing values):\n",
      "17837.82570776256\n"
     ]
    }
   ],
   "source": [
    "print(\"MAE (Drop columns with missing values):\")\n",
    "print(score_dataset(reduced_X_train, reduced_X_valid, y_train, y_valid))"
   ]
  },
  {
   "cell_type": "markdown",
   "id": "2e7fa0b4",
   "metadata": {
    "papermill": {
     "duration": 0.013869,
     "end_time": "2023-12-10T07:23:19.532111",
     "exception": false,
     "start_time": "2023-12-10T07:23:19.518242",
     "status": "completed"
    },
    "tags": []
   },
   "source": [
    "# Step 3: Imputation\n",
    "\n",
    "### Part A\n",
    "\n",
    "Use the next code cell to impute missing values with the mean value along each column.  Set the preprocessed DataFrames to `imputed_X_train` and `imputed_X_valid`.  Make sure that the column names match those in `X_train` and `X_valid`."
   ]
  },
  {
   "cell_type": "code",
   "execution_count": 13,
   "id": "abc65e0a",
   "metadata": {
    "execution": {
     "iopub.execute_input": "2023-12-10T07:23:19.562003Z",
     "iopub.status.busy": "2023-12-10T07:23:19.561582Z",
     "iopub.status.idle": "2023-12-10T07:23:19.596300Z",
     "shell.execute_reply": "2023-12-10T07:23:19.595206Z"
    },
    "papermill": {
     "duration": 0.052401,
     "end_time": "2023-12-10T07:23:19.598606",
     "exception": false,
     "start_time": "2023-12-10T07:23:19.546205",
     "status": "completed"
    },
    "tags": []
   },
   "outputs": [
    {
     "data": {
      "application/javascript": [
       "parent.postMessage({\"jupyterEvent\": \"custom.exercise_interaction\", \"data\": {\"outcomeType\": 1, \"valueTowardsCompletion\": 1.0, \"interactionType\": 1, \"questionType\": 2, \"questionId\": \"3.1_ImputeCode\", \"learnToolsVersion\": \"0.3.4\", \"failureMessage\": \"\", \"exceptionClass\": \"\", \"trace\": \"\"}}, \"*\")"
      ],
      "text/plain": [
       "<IPython.core.display.Javascript object>"
      ]
     },
     "metadata": {},
     "output_type": "display_data"
    },
    {
     "data": {
      "text/markdown": [
       "<span style=\"color:#33cc33\">Correct</span>"
      ],
      "text/plain": [
       "Correct"
      ]
     },
     "metadata": {},
     "output_type": "display_data"
    }
   ],
   "source": [
    "from sklearn.impute import SimpleImputer\n",
    "\n",
    "# Fill in the lines below: imputation\n",
    "my_imputer = SimpleImputer() # Your code here\n",
    "imputed_X_train = pd.DataFrame(my_imputer.fit_transform(X_train))\n",
    "imputed_X_valid = pd.DataFrame(my_imputer.transform(X_valid))\n",
    "\n",
    "# Fill in the lines below: imputation removed column names; put them back\n",
    "imputed_X_train.columns = X_train.columns\n",
    "imputed_X_valid.columns = X_valid.columns\n",
    "\n",
    "# Check your answers\n",
    "step_3.a.check()"
   ]
  },
  {
   "cell_type": "code",
   "execution_count": 14,
   "id": "5aa435d3",
   "metadata": {
    "execution": {
     "iopub.execute_input": "2023-12-10T07:23:19.631675Z",
     "iopub.status.busy": "2023-12-10T07:23:19.631003Z",
     "iopub.status.idle": "2023-12-10T07:23:19.635339Z",
     "shell.execute_reply": "2023-12-10T07:23:19.634544Z"
    },
    "papermill": {
     "duration": 0.022487,
     "end_time": "2023-12-10T07:23:19.637475",
     "exception": false,
     "start_time": "2023-12-10T07:23:19.614988",
     "status": "completed"
    },
    "tags": []
   },
   "outputs": [],
   "source": [
    "# Lines below will give you a hint or solution code\n",
    "#step_3.a.hint()\n",
    "#step_3.a.solution()"
   ]
  },
  {
   "cell_type": "markdown",
   "id": "9b83f552",
   "metadata": {
    "papermill": {
     "duration": 0.013983,
     "end_time": "2023-12-10T07:23:19.665888",
     "exception": false,
     "start_time": "2023-12-10T07:23:19.651905",
     "status": "completed"
    },
    "tags": []
   },
   "source": [
    "Run the next code cell without changes to obtain the MAE for this approach."
   ]
  },
  {
   "cell_type": "code",
   "execution_count": 15,
   "id": "5c577253",
   "metadata": {
    "execution": {
     "iopub.execute_input": "2023-12-10T07:23:19.696624Z",
     "iopub.status.busy": "2023-12-10T07:23:19.695956Z",
     "iopub.status.idle": "2023-12-10T07:23:21.111622Z",
     "shell.execute_reply": "2023-12-10T07:23:21.110228Z"
    },
    "papermill": {
     "duration": 1.434422,
     "end_time": "2023-12-10T07:23:21.114372",
     "exception": false,
     "start_time": "2023-12-10T07:23:19.679950",
     "status": "completed"
    },
    "tags": []
   },
   "outputs": [
    {
     "name": "stdout",
     "output_type": "stream",
     "text": [
      "MAE (Imputation):\n",
      "18062.894611872147\n"
     ]
    }
   ],
   "source": [
    "print(\"MAE (Imputation):\")\n",
    "print(score_dataset(imputed_X_train, imputed_X_valid, y_train, y_valid))"
   ]
  },
  {
   "cell_type": "markdown",
   "id": "2e641076",
   "metadata": {
    "papermill": {
     "duration": 0.014615,
     "end_time": "2023-12-10T07:23:21.143902",
     "exception": false,
     "start_time": "2023-12-10T07:23:21.129287",
     "status": "completed"
    },
    "tags": []
   },
   "source": [
    "### Part B\n",
    "\n",
    "Compare the MAE from each approach.  Does anything surprise you about the results?  Why do you think one approach performed better than the other?"
   ]
  },
  {
   "cell_type": "code",
   "execution_count": 16,
   "id": "1e153525",
   "metadata": {
    "execution": {
     "iopub.execute_input": "2023-12-10T07:23:21.174992Z",
     "iopub.status.busy": "2023-12-10T07:23:21.174627Z",
     "iopub.status.idle": "2023-12-10T07:23:21.183756Z",
     "shell.execute_reply": "2023-12-10T07:23:21.182763Z"
    },
    "papermill": {
     "duration": 0.027762,
     "end_time": "2023-12-10T07:23:21.186393",
     "exception": false,
     "start_time": "2023-12-10T07:23:21.158631",
     "status": "completed"
    },
    "tags": []
   },
   "outputs": [
    {
     "data": {
      "application/javascript": [
       "parent.postMessage({\"jupyterEvent\": \"custom.exercise_interaction\", \"data\": {\"outcomeType\": 1, \"valueTowardsCompletion\": 1.0, \"interactionType\": 1, \"questionType\": 4, \"questionId\": \"3.2_ImputeThought\", \"learnToolsVersion\": \"0.3.4\", \"failureMessage\": \"\", \"exceptionClass\": \"\", \"trace\": \"\"}}, \"*\")"
      ],
      "text/plain": [
       "<IPython.core.display.Javascript object>"
      ]
     },
     "metadata": {},
     "output_type": "display_data"
    },
    {
     "data": {
      "text/markdown": [
       "<span style=\"color:#33cc33\">Correct:</span> \n",
       "\n",
       "Given that thre are so few missing values in the dataset, we'd expect imputation to perform better than dropping columns entirely.  However, we see that dropping columns performs slightly better!  While this can probably partially be attributed to noise in the dataset, another potential explanation is that the imputation method is not a great match to this dataset.  That is, maybe instead of filling in the mean value, it makes more sense to set every missing value to a value of 0, to fill in the most frequently encountered value, or to use some other method.  For instance, consider the `GarageYrBlt` column (which indicates the year that the garage was built).  It's likely that in some cases, a missing value could indicate a house that does not have a garage.  Does it make more sense to fill in the median value along each column in this case?  Or could we get better results by filling in the minimum value along each column?  It's not quite clear what's best in this case, but perhaps we can rule out some options immediately - for instance, setting missing values in this column to 0 is likely to yield horrible results!"
      ],
      "text/plain": [
       "Correct: \n",
       "\n",
       "Given that thre are so few missing values in the dataset, we'd expect imputation to perform better than dropping columns entirely.  However, we see that dropping columns performs slightly better!  While this can probably partially be attributed to noise in the dataset, another potential explanation is that the imputation method is not a great match to this dataset.  That is, maybe instead of filling in the mean value, it makes more sense to set every missing value to a value of 0, to fill in the most frequently encountered value, or to use some other method.  For instance, consider the `GarageYrBlt` column (which indicates the year that the garage was built).  It's likely that in some cases, a missing value could indicate a house that does not have a garage.  Does it make more sense to fill in the median value along each column in this case?  Or could we get better results by filling in the minimum value along each column?  It's not quite clear what's best in this case, but perhaps we can rule out some options immediately - for instance, setting missing values in this column to 0 is likely to yield horrible results!"
      ]
     },
     "metadata": {},
     "output_type": "display_data"
    }
   ],
   "source": [
    "# Check your answer (Run this code cell to receive credit!)\n",
    "step_3.b.check()"
   ]
  },
  {
   "cell_type": "code",
   "execution_count": 17,
   "id": "5be5c403",
   "metadata": {
    "execution": {
     "iopub.execute_input": "2023-12-10T07:23:21.218786Z",
     "iopub.status.busy": "2023-12-10T07:23:21.218404Z",
     "iopub.status.idle": "2023-12-10T07:23:21.222827Z",
     "shell.execute_reply": "2023-12-10T07:23:21.221612Z"
    },
    "papermill": {
     "duration": 0.023441,
     "end_time": "2023-12-10T07:23:21.225166",
     "exception": false,
     "start_time": "2023-12-10T07:23:21.201725",
     "status": "completed"
    },
    "tags": []
   },
   "outputs": [],
   "source": [
    "#step_3.b.hint()"
   ]
  },
  {
   "cell_type": "markdown",
   "id": "ed933214",
   "metadata": {
    "papermill": {
     "duration": 0.014789,
     "end_time": "2023-12-10T07:23:21.255285",
     "exception": false,
     "start_time": "2023-12-10T07:23:21.240496",
     "status": "completed"
    },
    "tags": []
   },
   "source": [
    "# Step 4: Generate test predictions\n",
    "\n",
    "In this final step, you'll use any approach of your choosing to deal with missing values.  Once you've preprocessed the training and validation features, you'll train and evaluate a random forest model.  Then, you'll preprocess the test data before generating predictions that can be submitted to the competition!\n",
    "\n",
    "### Part A\n",
    "\n",
    "Use the next code cell to preprocess the training and validation data.  Set the preprocessed DataFrames to `final_X_train` and `final_X_valid`.  **You can use any approach of your choosing here!**  in order for this step to be marked as correct, you need only ensure:\n",
    "- the preprocessed DataFrames have the same number of columns,\n",
    "- the preprocessed DataFrames have no missing values, \n",
    "- `final_X_train` and `y_train` have the same number of rows, and\n",
    "- `final_X_valid` and `y_valid` have the same number of rows."
   ]
  },
  {
   "cell_type": "code",
   "execution_count": 18,
   "id": "a3e1ab56",
   "metadata": {
    "execution": {
     "iopub.execute_input": "2023-12-10T07:23:21.287788Z",
     "iopub.status.busy": "2023-12-10T07:23:21.286778Z",
     "iopub.status.idle": "2023-12-10T07:23:21.293950Z",
     "shell.execute_reply": "2023-12-10T07:23:21.292805Z"
    },
    "papermill": {
     "duration": 0.026041,
     "end_time": "2023-12-10T07:23:21.296412",
     "exception": false,
     "start_time": "2023-12-10T07:23:21.270371",
     "status": "completed"
    },
    "tags": []
   },
   "outputs": [],
   "source": [
    "# Preprocessed training and validation features\n",
    "X_train_plus = X_train.copy()\n",
    "X_valid_plus = X_valid.copy()\n",
    "#X_train_plus[cols_with_missing[0]].isnull()\n",
    "#for col in cols_with_missing:\n",
    "#    X_train_plus[col + '_was_missing'] = X_train_plus[col].isnull()\n",
    "#    X_valid_plus[col + '_was_missing'] = X_valid_plus[col].isnull()\n",
    "my_imputer = SimpleImputer(strategy='median')"
   ]
  },
  {
   "cell_type": "code",
   "execution_count": 19,
   "id": "1dc25fe0",
   "metadata": {
    "execution": {
     "iopub.execute_input": "2023-12-10T07:23:21.329828Z",
     "iopub.status.busy": "2023-12-10T07:23:21.328722Z",
     "iopub.status.idle": "2023-12-10T07:23:21.367557Z",
     "shell.execute_reply": "2023-12-10T07:23:21.366164Z"
    },
    "papermill": {
     "duration": 0.0584,
     "end_time": "2023-12-10T07:23:21.370637",
     "exception": false,
     "start_time": "2023-12-10T07:23:21.312237",
     "status": "completed"
    },
    "tags": []
   },
   "outputs": [
    {
     "data": {
      "application/javascript": [
       "parent.postMessage({\"jupyterEvent\": \"custom.exercise_interaction\", \"data\": {\"outcomeType\": 1, \"valueTowardsCompletion\": 1.0, \"interactionType\": 1, \"questionType\": 2, \"questionId\": \"4.1_PredsCodeA\", \"learnToolsVersion\": \"0.3.4\", \"failureMessage\": \"\", \"exceptionClass\": \"\", \"trace\": \"\"}}, \"*\")"
      ],
      "text/plain": [
       "<IPython.core.display.Javascript object>"
      ]
     },
     "metadata": {},
     "output_type": "display_data"
    },
    {
     "data": {
      "text/markdown": [
       "<span style=\"color:#33cc33\">Correct</span>"
      ],
      "text/plain": [
       "Correct"
      ]
     },
     "metadata": {},
     "output_type": "display_data"
    }
   ],
   "source": [
    "# Preprocessed training and validation features\n",
    "final_X_train = pd.DataFrame(my_imputer.fit_transform(X_train_plus))\n",
    "final_X_valid = pd.DataFrame(my_imputer.transform(X_valid_plus))\n",
    "final_X_train.columns = X_train_plus.columns\n",
    "final_X_valid.columns = X_valid_plus.columns\n",
    "\n",
    "# Check your answers\n",
    "step_4.a.check()"
   ]
  },
  {
   "cell_type": "code",
   "execution_count": 20,
   "id": "ef38ee15",
   "metadata": {
    "execution": {
     "iopub.execute_input": "2023-12-10T07:23:21.412530Z",
     "iopub.status.busy": "2023-12-10T07:23:21.411954Z",
     "iopub.status.idle": "2023-12-10T07:23:21.416881Z",
     "shell.execute_reply": "2023-12-10T07:23:21.415674Z"
    },
    "papermill": {
     "duration": 0.027092,
     "end_time": "2023-12-10T07:23:21.419560",
     "exception": false,
     "start_time": "2023-12-10T07:23:21.392468",
     "status": "completed"
    },
    "tags": []
   },
   "outputs": [],
   "source": [
    "# Lines below will give you a hint or solution code\n",
    "#step_4.a.hint()\n",
    "#step_4.a.solution()"
   ]
  },
  {
   "cell_type": "markdown",
   "id": "bb447a10",
   "metadata": {
    "papermill": {
     "duration": 0.017706,
     "end_time": "2023-12-10T07:23:21.455849",
     "exception": false,
     "start_time": "2023-12-10T07:23:21.438143",
     "status": "completed"
    },
    "tags": []
   },
   "source": [
    "Run the next code cell to train and evaluate a random forest model.  (*Note that we don't use the `score_dataset()` function above, because we will soon use the trained model to generate test predictions!*)"
   ]
  },
  {
   "cell_type": "code",
   "execution_count": 21,
   "id": "a64f39f6",
   "metadata": {
    "execution": {
     "iopub.execute_input": "2023-12-10T07:23:21.501705Z",
     "iopub.status.busy": "2023-12-10T07:23:21.500938Z",
     "iopub.status.idle": "2023-12-10T07:23:22.978953Z",
     "shell.execute_reply": "2023-12-10T07:23:22.977817Z"
    },
    "papermill": {
     "duration": 1.502957,
     "end_time": "2023-12-10T07:23:22.981343",
     "exception": false,
     "start_time": "2023-12-10T07:23:21.478386",
     "status": "completed"
    },
    "tags": []
   },
   "outputs": [
    {
     "name": "stdout",
     "output_type": "stream",
     "text": [
      "MAE (Your approach):\n",
      "17791.59899543379\n"
     ]
    }
   ],
   "source": [
    "# Define and fit model\n",
    "model = RandomForestRegressor(n_estimators=100, random_state=0)\n",
    "model.fit(final_X_train, y_train)\n",
    "\n",
    "# Get validation predictions and MAE\n",
    "preds_valid = model.predict(final_X_valid)\n",
    "print(\"MAE (Your approach):\")\n",
    "print(mean_absolute_error(y_valid, preds_valid))"
   ]
  },
  {
   "cell_type": "markdown",
   "id": "e5e95c82",
   "metadata": {
    "papermill": {
     "duration": 0.01509,
     "end_time": "2023-12-10T07:23:23.011929",
     "exception": false,
     "start_time": "2023-12-10T07:23:22.996839",
     "status": "completed"
    },
    "tags": []
   },
   "source": [
    "### Part B\n",
    "\n",
    "Use the next code cell to preprocess your test data.  Make sure that you use a method that agrees with how you preprocessed the training and validation data, and set the preprocessed test features to `final_X_test`.\n",
    "\n",
    "Then, use the preprocessed test features and the trained model to generate test predictions in `preds_test`.\n",
    "\n",
    "In order for this step to be marked correct, you need only ensure:\n",
    "- the preprocessed test DataFrame has no missing values, and\n",
    "- `final_X_test` has the same number of rows as `X_test`."
   ]
  },
  {
   "cell_type": "code",
   "execution_count": 22,
   "id": "b18d3e36",
   "metadata": {
    "execution": {
     "iopub.execute_input": "2023-12-10T07:23:23.046478Z",
     "iopub.status.busy": "2023-12-10T07:23:23.046098Z",
     "iopub.status.idle": "2023-12-10T07:23:23.099168Z",
     "shell.execute_reply": "2023-12-10T07:23:23.098126Z"
    },
    "papermill": {
     "duration": 0.074134,
     "end_time": "2023-12-10T07:23:23.101598",
     "exception": false,
     "start_time": "2023-12-10T07:23:23.027464",
     "status": "completed"
    },
    "tags": []
   },
   "outputs": [
    {
     "name": "stderr",
     "output_type": "stream",
     "text": [
      "/opt/conda/lib/python3.10/site-packages/sklearn/base.py:439: UserWarning: X does not have valid feature names, but RandomForestRegressor was fitted with feature names\n",
      "  warnings.warn(\n"
     ]
    },
    {
     "data": {
      "application/javascript": [
       "parent.postMessage({\"jupyterEvent\": \"custom.exercise_interaction\", \"data\": {\"outcomeType\": 1, \"valueTowardsCompletion\": 1.0, \"interactionType\": 1, \"questionType\": 2, \"questionId\": \"4.2_PredsCodeB\", \"learnToolsVersion\": \"0.3.4\", \"failureMessage\": \"\", \"exceptionClass\": \"\", \"trace\": \"\"}}, \"*\")"
      ],
      "text/plain": [
       "<IPython.core.display.Javascript object>"
      ]
     },
     "metadata": {},
     "output_type": "display_data"
    },
    {
     "data": {
      "text/markdown": [
       "<span style=\"color:#33cc33\">Correct</span>"
      ],
      "text/plain": [
       "Correct"
      ]
     },
     "metadata": {},
     "output_type": "display_data"
    }
   ],
   "source": [
    "# Fill in the line below: preprocess test data\n",
    "final_X_test = pd.DataFrame(my_imputer.transform(X_test))\n",
    "\n",
    "# Fill in the line below: get test predictions\n",
    "preds_test = model.predict(final_X_test)\n",
    "\n",
    "# Check your answers\n",
    "step_4.b.check()"
   ]
  },
  {
   "cell_type": "code",
   "execution_count": 23,
   "id": "718a81d7",
   "metadata": {
    "execution": {
     "iopub.execute_input": "2023-12-10T07:23:23.136276Z",
     "iopub.status.busy": "2023-12-10T07:23:23.135620Z",
     "iopub.status.idle": "2023-12-10T07:23:23.140155Z",
     "shell.execute_reply": "2023-12-10T07:23:23.139045Z"
    },
    "papermill": {
     "duration": 0.024857,
     "end_time": "2023-12-10T07:23:23.142751",
     "exception": false,
     "start_time": "2023-12-10T07:23:23.117894",
     "status": "completed"
    },
    "tags": []
   },
   "outputs": [],
   "source": [
    "# Lines below will give you a hint or solution code\n",
    "#step_4.b.hint()\n",
    "#step_4.b.solution()"
   ]
  },
  {
   "cell_type": "markdown",
   "id": "dd975c2a",
   "metadata": {
    "papermill": {
     "duration": 0.015824,
     "end_time": "2023-12-10T07:23:23.174561",
     "exception": false,
     "start_time": "2023-12-10T07:23:23.158737",
     "status": "completed"
    },
    "tags": []
   },
   "source": [
    "Run the next code cell without changes to save your results to a CSV file that can be submitted directly to the competition."
   ]
  },
  {
   "cell_type": "code",
   "execution_count": 24,
   "id": "29b5a564",
   "metadata": {
    "execution": {
     "iopub.execute_input": "2023-12-10T07:23:23.209106Z",
     "iopub.status.busy": "2023-12-10T07:23:23.207947Z",
     "iopub.status.idle": "2023-12-10T07:23:23.222712Z",
     "shell.execute_reply": "2023-12-10T07:23:23.221810Z"
    },
    "papermill": {
     "duration": 0.034673,
     "end_time": "2023-12-10T07:23:23.225232",
     "exception": false,
     "start_time": "2023-12-10T07:23:23.190559",
     "status": "completed"
    },
    "tags": []
   },
   "outputs": [],
   "source": [
    "# Save test predictions to file\n",
    "output = pd.DataFrame({'Id': X_test.index,\n",
    "                       'SalePrice': preds_test})\n",
    "output.to_csv('submission.csv', index=False)"
   ]
  },
  {
   "cell_type": "markdown",
   "id": "53cf3dbd",
   "metadata": {
    "papermill": {
     "duration": 0.016105,
     "end_time": "2023-12-10T07:23:23.258115",
     "exception": false,
     "start_time": "2023-12-10T07:23:23.242010",
     "status": "completed"
    },
    "tags": []
   },
   "source": [
    "# Submit your results\n",
    "\n",
    "Once you have successfully completed Step 4, you're ready to submit your results to the leaderboard!  (_You also learned how to do this in the previous exercise.  If you need a reminder of how to do this, please use the instructions below._)  \n",
    "\n",
    "First, you'll need to join the competition if you haven't already.  So open a new window by clicking on [this link](https://www.kaggle.com/c/home-data-for-ml-course).  Then click on the **Join Competition** button.\n",
    "\n",
    "![join competition image](https://storage.googleapis.com/kaggle-media/learn/images/wLmFtH3.png)\n",
    "\n",
    "Next, follow the instructions below:\n",
    "1. Begin by clicking on the **Save Version** button in the top right corner of the window.  This will generate a pop-up window.  \n",
    "2. Ensure that the **Save and Run All** option is selected, and then click on the **Save** button.\n",
    "3. This generates a window in the bottom left corner of the notebook.  After it has finished running, click on the number to the right of the **Save Version** button.  This pulls up a list of versions on the right of the screen.  Click on the ellipsis **(...)** to the right of the most recent version, and select **Open in Viewer**.  This brings you into view mode of the same page. You will need to scroll down to get back to these instructions.\n",
    "4. Click on the **Data** tab near the top of the screen.  Then, click on the file you would like to submit, and click on the **Submit** button to submit your results to the leaderboard.\n",
    "\n",
    "You have now successfully submitted to the competition!\n",
    "\n",
    "If you want to keep working to improve your performance, select the **Edit** button in the top right of the screen. Then you can change your code and repeat the process. There's a lot of room to improve, and you will climb up the leaderboard as you work.\n",
    "\n",
    "\n",
    "# Keep going\n",
    "\n",
    "Move on to learn what **[categorical variables](https://www.kaggle.com/alexisbcook/categorical-variables)** are, along with how to incorporate them into your machine learning models.  Categorical variables are very common in real-world data, but you'll get an error if you try to plug them into your models without processing them first!"
   ]
  },
  {
   "cell_type": "markdown",
   "id": "87678f21",
   "metadata": {
    "papermill": {
     "duration": 0.015522,
     "end_time": "2023-12-10T07:23:23.289526",
     "exception": false,
     "start_time": "2023-12-10T07:23:23.274004",
     "status": "completed"
    },
    "tags": []
   },
   "source": [
    "---\n",
    "\n",
    "\n",
    "\n",
    "\n",
    "*Have questions or comments? Visit the [course discussion forum](https://www.kaggle.com/learn/intermediate-machine-learning/discussion) to chat with other learners.*"
   ]
  }
 ],
 "metadata": {
  "kaggle": {
   "accelerator": "none",
   "dataSources": [
    {
     "databundleVersionId": 111096,
     "sourceId": 10211,
     "sourceType": "competition"
    }
   ],
   "isGpuEnabled": false,
   "isInternetEnabled": false,
   "language": "python",
   "sourceType": "notebook"
  },
  "kernelspec": {
   "display_name": "Python 3",
   "language": "python",
   "name": "python3"
  },
  "language_info": {
   "codemirror_mode": {
    "name": "ipython",
    "version": 3
   },
   "file_extension": ".py",
   "mimetype": "text/x-python",
   "name": "python",
   "nbconvert_exporter": "python",
   "pygments_lexer": "ipython3",
   "version": "3.10.12"
  },
  "papermill": {
   "default_parameters": {},
   "duration": 12.431519,
   "end_time": "2023-12-10T07:23:23.926927",
   "environment_variables": {},
   "exception": null,
   "input_path": "__notebook__.ipynb",
   "output_path": "__notebook__.ipynb",
   "parameters": {},
   "start_time": "2023-12-10T07:23:11.495408",
   "version": "2.4.0"
  }
 },
 "nbformat": 4,
 "nbformat_minor": 5
}
